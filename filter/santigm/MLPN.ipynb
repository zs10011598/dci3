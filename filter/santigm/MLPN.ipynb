{
 "cells": [
  {
   "cell_type": "code",
   "execution_count": 13,
   "metadata": {},
   "outputs": [],
   "source": [
    "import numpy as np\n",
    "from sklearn.neural_network import MLPClassifier as MLPNC\n",
    "from sklearn.externals import joblib as joblib\n",
    "from sklearn.preprocessing import MinMaxScaler\n",
    "from sklearn.model_selection import cross_val_score"
   ]
  },
  {
   "cell_type": "code",
   "execution_count": 7,
   "metadata": {},
   "outputs": [
    {
     "name": "stdout",
     "output_type": "stream",
     "text": [
      "[[ 0.84126984  0.8         0.77011494  0.50413223  0.69230769]\n",
      " [ 0.71428571  0.68181818  0.56321839  0.41322314  0.63076923]\n",
      " [ 0.71428571  0.60909091  0.56321839  0.38016529  0.63076923]\n",
      " [ 0.65079365  0.60909091  0.51724138  0.3553719   0.63076923]\n",
      " [ 0.58730159  0.68181818  0.6091954   0.41322314  0.56923077]]\n"
     ]
    }
   ],
   "source": [
    "train = np.loadtxt('../datosEntrenamiento.csv', delimiter=',')\n",
    "test = np.loadtxt('../datosPrueba.csv', delimiter=',')\n",
    "train_x = train[:,:-1]\n",
    "train_y = train[:, train.shape[1]-1]\n",
    "test_x = test[:,:-1]\n",
    "test_y = test[:, test.shape[1]-1]\n",
    "\n",
    "# scale data into [0,1)\n",
    "scaler = MinMaxScaler().fit(train_x) \n",
    "train_x = scaler.transform(train_x)\n",
    "test_x = scaler.transform(test_x)\n",
    "\n",
    "le = preprocessing.LabelEncoder()\n",
    "le.fit(train_y)\n",
    "train_y = le.transform(train_y) # needed for MLPNClassifier\n",
    "test_y = le.transform(test_y)\n",
    "\n",
    "print(train_x[:5,:5])"
   ]
  },
  {
   "cell_type": "code",
   "execution_count": 17,
   "metadata": {},
   "outputs": [
    {
     "name": "stdout",
     "output_type": "stream",
     "text": [
      "Accuracy(with alpha = 0.010000): 0.86 (+/- 0.08)\n",
      "Accuracy(with alpha = 0.050000): 0.86 (+/- 0.09)\n",
      "Accuracy(with alpha = 0.001000): 0.87 (+/- 0.08)\n",
      "Accuracy(with alpha = 0.005000): 0.87 (+/- 0.08)\n",
      "Accuracy(with alpha = 0.000100): 0.87 (+/- 0.08)\n",
      "Accuracy(with alpha = 0.000500): 0.87 (+/- 0.07)\n",
      "Model test accuracy: 0.901\n"
     ]
    }
   ],
   "source": [
    "\n",
    "alphas = [.01,.05,.001,.005,.0001,.0005]\n",
    "max_score = 0\n",
    "min_var = 1\n",
    "max_score_alpha = alphas[0]\n",
    "for a in alphas:    \n",
    "    mlpn = MLPNC(solver='lbfgs', alpha=a, hidden_layer_sizes=(100,))\n",
    "    scores = cross_val_score(mlpn, train_x, train_y, cv=10) # 10 fold crossvalidation\n",
    "    m_score = scores.mean()\n",
    "    var_score = scores.std() * 2\n",
    "    if max_score < m_score and min_var > var_score:\n",
    "        max_score = m_score\n",
    "        min_var = var_score\n",
    "        mas_score_alpha = a\n",
    "    print(\"Accuracy(with alpha = %f): %0.2f (+/- %0.2f)\" % (a, m_score, var_score))\n",
    "    \n",
    "mlpn = MLPNC(solver='lbfgs', alpha=max_score_alpha, hidden_layer_sizes=(100,))\n",
    "mlpn.fit(train_x, train_y)\n",
    "accuracy = mlpn.score(test_x, test_y)\n",
    "print('Model test accuracy: %0.3f'%(accuracy))"
   ]
  },
  {
   "cell_type": "code",
   "execution_count": 18,
   "metadata": {},
   "outputs": [
    {
     "data": {
      "text/plain": [
       "['models/MLPC.pkl']"
      ]
     },
     "execution_count": 18,
     "metadata": {},
     "output_type": "execute_result"
    }
   ],
   "source": [
    "joblib.dump(mlpn, 'models/MLPC.pkl') "
   ]
  },
  {
   "cell_type": "code",
   "execution_count": 23,
   "metadata": {},
   "outputs": [
    {
     "name": "stdout",
     "output_type": "stream",
     "text": [
      "[ 1.  1.  2.  1.  1.  1.  1.  1.  1.  4.]\n"
     ]
    }
   ],
   "source": [
    "validation = np.loadtxt('../datosValidacion.csv',delimiter=',')\n",
    "validation = scaler.transform(validation)\n",
    "validation_output = mlpn.predict(validation)\n",
    "print(validation_output[:10])\n",
    "np.savetxt('../retoFiltro.txt', validation_output, fmt='%d')"
   ]
  },
  {
   "cell_type": "code",
   "execution_count": null,
   "metadata": {},
   "outputs": [],
   "source": []
  }
 ],
 "metadata": {
  "kernelspec": {
   "display_name": "Python 3",
   "language": "python",
   "name": "python3"
  },
  "language_info": {
   "codemirror_mode": {
    "name": "ipython",
    "version": 3
   },
   "file_extension": ".py",
   "mimetype": "text/x-python",
   "name": "python",
   "nbconvert_exporter": "python",
   "pygments_lexer": "ipython3",
   "version": "3.5.2"
  }
 },
 "nbformat": 4,
 "nbformat_minor": 2
}
