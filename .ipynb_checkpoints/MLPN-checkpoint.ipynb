{
 "cells": [
  {
   "cell_type": "code",
   "execution_count": 12,
   "metadata": {},
   "outputs": [],
   "source": [
    "import pandas as pd\n",
    "from sklearn.neural_network import MLPClassifier as MLPNC\n",
    "from sklearn.externals import joblib as joblib\n",
    "from sklearn.model_selection import cross_val_score\n",
    "from sklearn import preprocessing"
   ]
  },
  {
   "cell_type": "code",
   "execution_count": 17,
   "metadata": {},
   "outputs": [],
   "source": [
    "train = pd.read_csv('filter/datosEntrenamiento.csv', header=None)\n",
    "test = pd.read_csv('filter/datosPrueba.csv', header=None)\n",
    "train = (train - train.min())/(train.max() - train.min()) # scale into [0,1](MLPN)\n",
    "train_X = train.iloc[:,:-1]\n",
    "train_Y = train.iloc[:,train.shape[1]-1]\n",
    "le = preprocessing.LabelEncoder()\n",
    "le.fit(train_Y)\n",
    "train_Y = le.transform(train_Y) # needed for MLPNClassifier"
   ]
  },
  {
   "cell_type": "code",
   "execution_count": 18,
   "metadata": {},
   "outputs": [
    {
     "name": "stdout",
     "output_type": "stream",
     "text": [
      "[ 0.88741722  0.87168142  0.84955752  0.9159292   0.86283186  0.86        0.8\n",
      "  0.88641425  0.91946309  0.8098434 ]\n"
     ]
    }
   ],
   "source": [
    "# 10-fold cross-validation\n",
    "folds = 10\n",
    "mlpn = MLPNC(solver='lbfgs', alpha=1e-5, hidden_layer_sizes=(100,), random_state=1)\n",
    "scores = cross_val_score(mlpn, train_X, train_Y, cv=folds)\n",
    "print(scores)\n",
    "\n"
   ]
  },
  {
   "cell_type": "code",
   "execution_count": 19,
   "metadata": {},
   "outputs": [
    {
     "data": {
      "text/plain": [
       "MLPClassifier(activation='relu', alpha=1e-05, batch_size='auto', beta_1=0.9,\n",
       "       beta_2=0.999, early_stopping=False, epsilon=1e-08,\n",
       "       hidden_layer_sizes=(100,), learning_rate='constant',\n",
       "       learning_rate_init=0.001, max_iter=200, momentum=0.9,\n",
       "       nesterovs_momentum=True, power_t=0.5, random_state=1, shuffle=True,\n",
       "       solver='lbfgs', tol=0.0001, validation_fraction=0.1, verbose=False,\n",
       "       warm_start=False)"
      ]
     },
     "execution_count": 19,
     "metadata": {},
     "output_type": "execute_result"
    }
   ],
   "source": [
    "def eval_model(y_hat, y):\n",
    "    n_elem_sel = y_hat[y_hat==1].size\n",
    "    true_pos = y[(y==1)&(y==y_hat)].size\n",
    "    false_neg = y[(y==0)&(y!=y_hat)].size\n",
    "    false_pos = y[(y==1)&(y!=y_hat)].size\n",
    "    true_neg = y[(y==0)&(y==y_hat)].size\n",
    "    \n",
    "    precision = true_pos/n_elem_sel\n",
    "    tasa_v_pos = true_pos/(true_pos+false_neg)\n",
    "    tasa_f_pos = false_pos/(true_neg+false_pos)\n",
    "    return precision, tasa_v_pos, tasa_f_pos"
   ]
  },
  {
   "cell_type": "code",
   "execution_count": null,
   "metadata": {},
   "outputs": [],
   "source": [
    "test_X = test.iloc[:,:-1]\n",
    "test_Y = test.iloc[:,test.shape[1]-1]\n",
    "predicted_y = mlpn.predict(test_X)"
   ]
  }
 ],
 "metadata": {
  "kernelspec": {
   "display_name": "Python 3",
   "language": "python",
   "name": "python3"
  },
  "language_info": {
   "codemirror_mode": {
    "name": "ipython",
    "version": 3
   },
   "file_extension": ".py",
   "mimetype": "text/x-python",
   "name": "python",
   "nbconvert_exporter": "python",
   "pygments_lexer": "ipython3",
   "version": "3.5.2"
  }
 },
 "nbformat": 4,
 "nbformat_minor": 2
}
